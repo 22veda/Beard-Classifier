{
  "nbformat": 4,
  "nbformat_minor": 0,
  "metadata": {
    "colab": {
      "name": "resnet.ipynb",
      "provenance": [],
      "collapsed_sections": []
    },
    "kernelspec": {
      "name": "python3",
      "display_name": "Python 3"
    },
    "accelerator": "GPU"
  },
  "cells": [
    {
      "cell_type": "code",
      "metadata": {
        "id": "sZdmvX7CG1aR"
      },
      "source": [
        "import os\n",
        "import pickle\n",
        "from keras.models import load_model"
      ],
      "execution_count": 10,
      "outputs": []
    },
    {
      "cell_type": "code",
      "metadata": {
        "colab": {
          "base_uri": "https://localhost:8080/",
          "height": 35
        },
        "id": "_UA4NgpSdx12",
        "outputId": "792a8074-355b-42b4-e718-e4546a967cef"
      },
      "source": [
        "import keras\n",
        "keras.__version__"
      ],
      "execution_count": 22,
      "outputs": [
        {
          "output_type": "execute_result",
          "data": {
            "application/vnd.google.colaboratory.intrinsic+json": {
              "type": "string"
            },
            "text/plain": [
              "'2.4.3'"
            ]
          },
          "metadata": {
            "tags": []
          },
          "execution_count": 22
        }
      ]
    },
    {
      "cell_type": "code",
      "metadata": {
        "id": "ae3kefmsHAyM"
      },
      "source": [
        "#load your trained pickle files here(trained  on 19k images )\n",
        "pickle_in = open(\"/content/drive/MyDrive/Beard/training_pickle/total_training_X.pickle\",\"rb\")\n",
        "tx = pickle.load(pickle_in)\n",
        "\n",
        "pickle_in = open(\"/content/drive/MyDrive/Beard/training_pickle/total_training_Y.pickle\",\"rb\")\n",
        "ty = pickle.load(pickle_in)\n"
      ],
      "execution_count": 2,
      "outputs": []
    },
    {
      "cell_type": "code",
      "metadata": {
        "id": "A20qjlosHLm_",
        "colab": {
          "base_uri": "https://localhost:8080/"
        },
        "outputId": "625b464d-330c-493a-9c0d-97f757819e53"
      },
      "source": [
        "print(len(tx),len(ty))\n",
        "tx = tx/255.0"
      ],
      "execution_count": 18,
      "outputs": [
        {
          "output_type": "stream",
          "text": [
            "19027 19027\n"
          ],
          "name": "stdout"
        }
      ]
    },
    {
      "cell_type": "code",
      "metadata": {
        "colab": {
          "base_uri": "https://localhost:8080/",
          "height": 267
        },
        "id": "6V1qttCxo5wX",
        "outputId": "d7b22beb-fc7d-4776-ff65-04843110212b"
      },
      "source": [
        "import matplotlib.pyplot as plt\n",
        "plt.imshow(tx[12])\n",
        "plt.show()"
      ],
      "execution_count": 4,
      "outputs": [
        {
          "output_type": "display_data",
          "data": {
            "image/png": "[encoded data removed]",
            "text/plain": [
              "<Figure size 432x288 with 1 Axes>"
            ]
          },
          "metadata": {
            "tags": [],
            "needs_background": "light"
          }
        }
      ]
    },
    {
      "cell_type": "code",
      "metadata": {
        "colab": {
          "base_uri": "https://localhost:8080/"
        },
        "id": "MW0R1XWPHRkL",
        "outputId": "7602d5ec-7c00-4c8a-dd4a-db5821c6a088"
      },
      "source": [
        "import numpy as np\n",
        "tx = np.array(tx)\n",
        "ty = np.array(ty)\n",
        "print(len(tx),len(ty))"
      ],
      "execution_count": 5,
      "outputs": [
        {
          "output_type": "stream",
          "text": [
            "19027 19027\n"
          ],
          "name": "stdout"
        }
      ]
    },
    {
      "cell_type": "code",
      "metadata": {
        "colab": {
          "base_uri": "https://localhost:8080/"
        },
        "id": "Coo3PiQ9HtTO",
        "outputId": "09597418-2e2f-429f-c58f-5a6ba47d9a04"
      },
      "source": [
        "\n",
        "tx.shape"
      ],
      "execution_count": 6,
      "outputs": [
        {
          "output_type": "execute_result",
          "data": {
            "text/plain": [
              "(19027, 50, 50, 3)"
            ]
          },
          "metadata": {
            "tags": []
          },
          "execution_count": 6
        }
      ]
    },
    {
      "cell_type": "code",
      "metadata": {
        "colab": {
          "base_uri": "https://localhost:8080/"
        },
        "id": "-IRPitYMHYFs",
        "outputId": "402ed871-31c1-4e34-e176-578328cb7cdd"
      },
      "source": [
        "from keras.applications.resnet50 import ResNet50\n",
        "from tensorflow.keras.layers import AveragePooling2D,MaxPooling2D,Flatten,Dropout,Dense,BatchNormalization,GlobalAveragePooling2D,GlobalMaxPooling2D\n",
        "from tensorflow.keras.models import Model,Sequential\n",
        "from tensorflow.keras.optimizers import Adam\n",
        "from keras.callbacks import EarlyStopping\n",
        "from keras.callbacks import ModelCheckpoint\n",
        "\n",
        "#load ResNet50 pre-trained model \n",
        "m1 = ResNet50(include_top=False, weights='imagenet', input_shape=tx.shape[1:])\n",
        "\n",
        "for layer in m1.layers:\n",
        "    if isinstance(layer, BatchNormalization):\n",
        "        layer.trainable = True\n",
        "    else:\n",
        "        layer.trainable = False\n",
        "#fine-tuning     \n",
        "model = Sequential()\n",
        "\n",
        "model.add(m1)\n",
        "model.add(GlobalMaxPooling2D())\n",
        "model.add(Flatten())\n",
        "model.add(BatchNormalization())\n",
        "model.add(Dense(256,activation='relu'))\n",
        "model.add(Dropout(0.5))\n",
        "model.add(BatchNormalization())\n",
        "model.add(Dense(128,activation='relu'))\n",
        "model.add(Dropout(0.5))\n",
        "model.add(BatchNormalization())\n",
        "model.add(Dense(64,activation='relu'))\n",
        "model.add(Dropout(0.5))\n",
        "model.add(BatchNormalization())\n",
        "model.add(Dense(1,activation='sigmoid'))\n",
        "\n",
        "\n",
        "model.compile(loss=\"binary_crossentropy\", optimizer='adam',metrics=[\"accuracy\"])\n",
        "\n",
        "\n",
        "\n",
        "model.fit(tx,ty,batch_size=32,epochs=10,validation_split=0.1,verbose=1)"
      ],
      "execution_count": 7,
      "outputs": [
        {
          "output_type": "stream",
          "text": [
            "Downloading data from https://storage.googleapis.com/tensorflow/keras-applications/resnet/resnet50_weights_tf_dim_ordering_tf_kernels_notop.h5\n",
            "94773248/94765736 [==============================] - 1s 0us/step\n",
            "Epoch 1/10\n",
            "536/536 [==============================] - 31s 36ms/step - loss: 0.6554 - accuracy: 0.6491 - val_loss: 18.2269 - val_accuracy: 0.0158\n",
            "Epoch 2/10\n",
            "536/536 [==============================] - 18s 33ms/step - loss: 0.3448 - accuracy: 0.8507 - val_loss: 0.1482 - val_accuracy: 0.9637\n",
            "Epoch 3/10\n",
            "536/536 [==============================] - 18s 33ms/step - loss: 0.2661 - accuracy: 0.8917 - val_loss: 0.2740 - val_accuracy: 0.8902\n",
            "Epoch 4/10\n",
            "536/536 [==============================] - 18s 34ms/step - loss: 0.2321 - accuracy: 0.9098 - val_loss: 0.2007 - val_accuracy: 0.9264\n",
            "Epoch 5/10\n",
            "536/536 [==============================] - 18s 34ms/step - loss: 0.2037 - accuracy: 0.9184 - val_loss: 0.2388 - val_accuracy: 0.9075\n",
            "Epoch 6/10\n",
            "536/536 [==============================] - 18s 34ms/step - loss: 0.1690 - accuracy: 0.9356 - val_loss: 0.1763 - val_accuracy: 0.9417\n",
            "Epoch 7/10\n",
            "536/536 [==============================] - 18s 34ms/step - loss: 0.1646 - accuracy: 0.9390 - val_loss: 0.2284 - val_accuracy: 0.9128\n",
            "Epoch 8/10\n",
            "536/536 [==============================] - 18s 34ms/step - loss: 0.1431 - accuracy: 0.9437 - val_loss: 0.1423 - val_accuracy: 0.9569\n",
            "Epoch 9/10\n",
            "536/536 [==============================] - 18s 34ms/step - loss: 0.1320 - accuracy: 0.9514 - val_loss: 0.2227 - val_accuracy: 0.9201\n",
            "Epoch 10/10\n",
            "536/536 [==============================] - 18s 34ms/step - loss: 0.1267 - accuracy: 0.9532 - val_loss: 0.1802 - val_accuracy: 0.9375\n"
          ],
          "name": "stdout"
        },
        {
          "output_type": "execute_result",
          "data": {
            "text/plain": [
              "<tensorflow.python.keras.callbacks.History at 0x7f8d71b9a160>"
            ]
          },
          "metadata": {
            "tags": []
          },
          "execution_count": 7
        }
      ]
    },
    {
      "cell_type": "code",
      "metadata": {
        "id": "Is9DPcfKX93k"
      },
      "source": [
        "model=load_model(\"/content/drive/MyDrive/best-model-v5_retrained.h5\")"
      ],
      "execution_count": 12,
      "outputs": []
    },
    {
      "cell_type": "code",
      "metadata": {
        "colab": {
          "base_uri": "https://localhost:8080/"
        },
        "id": "58ertQ6OHmkY",
        "outputId": "4890ec79-2767-4f18-d915-eaa49251820b"
      },
      "source": [
        "import pickle\n",
        "import numpy as np\n",
        "#load your test pickle files here\n",
        "pickle_in = open(\"/content/drive/MyDrive/test_beard_X.pickle\",\"rb\")\n",
        "tex = pickle.load(pickle_in)\n",
        "\n",
        "pickle_in = open(\"/content/drive/MyDrive/test_beard_Y.pickle\",\"rb\")\n",
        "tey = pickle.load(pickle_in)\n",
        "print(len(tex),len(tey))\n"
      ],
      "execution_count": 15,
      "outputs": [
        {
          "output_type": "stream",
          "text": [
            "1999 1999\n"
          ],
          "name": "stdout"
        }
      ]
    },
    {
      "cell_type": "code",
      "metadata": {
        "colab": {
          "base_uri": "https://localhost:8080/"
        },
        "id": "gAcv4cpZZIv_",
        "outputId": "8c8293f2-e7dc-4946-9e7c-04fdf1e175ab"
      },
      "source": [
        "tex = np.array(tex)\n",
        "tey = np.array(tey)\n",
        "results = model.evaluate(tex, tey, batch_size=32)\n",
        "print('test loss, test acc:', results)"
      ],
      "execution_count": 16,
      "outputs": [
        {
          "output_type": "stream",
          "text": [
            "63/63 [==============================] - 1s 15ms/step - loss: 0.0945 - accuracy: 0.9710\n",
            "test loss, test acc: [0.09452194720506668, 0.970985472202301]\n"
          ],
          "name": "stdout"
        }
      ]
    },
    {
      "cell_type": "code",
      "metadata": {
        "colab": {
          "base_uri": "https://localhost:8080/",
          "height": 304
        },
        "id": "jhr6OMq0Tov5",
        "outputId": "16e451dd-c48c-467e-ff71-5d8a9ff64b6c"
      },
      "source": [
        "import matplotlib.pyplot as plt\n",
        "s=[]\n",
        "#20,1000,1800,1980,1975\n",
        "s.append(tex[500])\n",
        "s=np.array(s)\n",
        "print(s.shape)\n",
        "m=model.predict(s)\n",
        "print('predicted',m)\n",
        "plt.imshow(tex[500])\n",
        "plt.show()"
      ],
      "execution_count": 17,
      "outputs": [
        {
          "output_type": "stream",
          "text": [
            "(1, 50, 50, 3)\n",
            "predicted [[0.9999875]]\n"
          ],
          "name": "stdout"
        },
        {
          "output_type": "display_data",
          "data": {
            "image/png": "[encoded data removed]",
            "text/plain": [
              "<Figure size 432x288 with 1 Axes>"
            ]
          },
          "metadata": {
            "tags": [],
            "needs_background": "light"
          }
        }
      ]
    },
    {
      "cell_type": "code",
      "metadata": {
        "id": "FrkNVzA1P938"
      },
      "source": [
        "model.save(\"/content/drive/MyDrive/best-model-v5_retrained.h5\")"
      ],
      "execution_count": null,
      "outputs": []
    }
  ]
}